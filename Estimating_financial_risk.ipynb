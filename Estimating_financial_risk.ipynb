{
 "cells": [
  {
   "cell_type": "code",
   "execution_count": 1,
   "id": "6f7f762e",
   "metadata": {},
   "outputs": [],
   "source": [
    "import pyspark\n",
    "\n",
    "from pyspark.sql import SparkSession"
   ]
  },
  {
   "cell_type": "code",
   "execution_count": 2,
   "id": "fcb000ac",
   "metadata": {},
   "outputs": [
    {
     "name": "stdout",
     "output_type": "stream",
     "text": [
      "23/01/23 02:12:20 WARN Utils: Your hostname, dan-811 resolves to a loopback address: 127.0.1.1; using 192.168.1.38 instead (on interface wlp3s0)\n",
      "23/01/23 02:12:20 WARN Utils: Set SPARK_LOCAL_IP if you need to bind to another address\n"
     ]
    },
    {
     "name": "stderr",
     "output_type": "stream",
     "text": [
      "Setting default log level to \"WARN\".\n",
      "To adjust logging level use sc.setLogLevel(newLevel). For SparkR, use setLogLevel(newLevel).\n"
     ]
    },
    {
     "name": "stdout",
     "output_type": "stream",
     "text": [
      "23/01/23 02:12:22 WARN NativeCodeLoader: Unable to load native-hadoop library for your platform... using builtin-java classes where applicable\n"
     ]
    }
   ],
   "source": [
    "spark = SparkSession.builder.config(\"spark.driver.memory\", \"2g\").appName('chapter_8').getOrCreate()"
   ]
  },
  {
   "cell_type": "markdown",
   "id": "548f4f51",
   "metadata": {},
   "source": [
    "### Preparing the Data"
   ]
  },
  {
   "cell_type": "code",
   "execution_count": 3,
   "id": "43a4890c",
   "metadata": {},
   "outputs": [
    {
     "name": "stderr",
     "output_type": "stream",
     "text": [
      "                                                                                \r"
     ]
    },
    {
     "name": "stdout",
     "output_type": "stream",
     "text": [
      "+---------+-------+-------+-------+------+------+\n",
      "|     Date|   Open|   High|    Low| Close|Volume|\n",
      "+---------+-------+-------+-------+------+------+\n",
      "|31-Dec-13|1884.00|1900.00|1880.00|1900.0|   546|\n",
      "|30-Dec-13|1889.00|1900.00|1880.00|1900.0|  1656|\n",
      "+---------+-------+-------+-------+------+------+\n",
      "only showing top 2 rows\n",
      "\n"
     ]
    }
   ],
   "source": [
    "stocks = spark.read.csv(\"data/stocks/\", header='true', inferSchema='true')\n",
    "\n",
    "stocks.show(2)"
   ]
  },
  {
   "cell_type": "code",
   "execution_count": 4,
   "id": "bf451826",
   "metadata": {},
   "outputs": [
    {
     "name": "stdout",
     "output_type": "stream",
     "text": [
      "+---------+-------+-------+-------+------+------+------+\n",
      "|     Date|   Open|   High|    Low| Close|Volume|Symbol|\n",
      "+---------+-------+-------+-------+------+------+------+\n",
      "|31-Dec-13|1884.00|1900.00|1880.00|1900.0|   546|  CLDN|\n",
      "|30-Dec-13|1889.00|1900.00|1880.00|1900.0|  1656|  CLDN|\n",
      "+---------+-------+-------+-------+------+------+------+\n",
      "only showing top 2 rows\n",
      "\n"
     ]
    }
   ],
   "source": [
    "from pyspark.sql import functions as fun\n",
    "\n",
    "stocks = stocks.withColumn(\"Symbol\", fun.input_file_name()).\\\n",
    "                withColumn(\"Symbol\",\n",
    "                  fun.element_at(fun.split(\"Symbol\", \"/\"), -1)).\\\n",
    "                withColumn(\"Symbol\",\n",
    "                  fun.element_at(fun.split(\"Symbol\", \"\\.\"), 1))\n",
    "\n",
    "stocks.show(2)"
   ]
  },
  {
   "cell_type": "code",
   "execution_count": 5,
   "id": "f8fb5527",
   "metadata": {},
   "outputs": [],
   "source": [
    "factors = spark.read.csv(\"data/factors\", header='true', inferSchema='true')\n",
    "factors = factors.withColumn(\"Symbol\", fun.input_file_name()).\\\n",
    "                  withColumn(\"Symbol\",\n",
    "                    fun.element_at(fun.split(\"Symbol\", \"/\"), -1)).\\\n",
    "                  withColumn(\"Symbol\",\n",
    "                    fun.element_at(fun.split(\"Symbol\", \"\\.\"), 1))"
   ]
  },
  {
   "cell_type": "code",
   "execution_count": 6,
   "id": "c7347d1f",
   "metadata": {},
   "outputs": [],
   "source": [
    "from pyspark.sql import Window\n",
    "\n",
    "stocks = stocks.withColumn('count', fun.count('Symbol').\\\n",
    "                over(Window.partitionBy('Symbol'))).\\\n",
    "                filter(fun.col('count') > 260*5 + 10)"
   ]
  },
  {
   "cell_type": "code",
   "execution_count": 7,
   "id": "208e1d94",
   "metadata": {},
   "outputs": [
    {
     "data": {
      "text/plain": [
       "DataFrame[key: string, value: string]"
      ]
     },
     "execution_count": 7,
     "metadata": {},
     "output_type": "execute_result"
    }
   ],
   "source": [
    "spark.sql(\"set spark.sql.legacy.timeParserPolicy=LEGACY\")"
   ]
  },
  {
   "cell_type": "code",
   "execution_count": 8,
   "id": "980576dc",
   "metadata": {},
   "outputs": [
    {
     "name": "stdout",
     "output_type": "stream",
     "text": [
      "root\n",
      " |-- Date: date (nullable = true)\n",
      " |-- Open: string (nullable = true)\n",
      " |-- High: string (nullable = true)\n",
      " |-- Low: string (nullable = true)\n",
      " |-- Close: double (nullable = true)\n",
      " |-- Volume: string (nullable = true)\n",
      " |-- Symbol: string (nullable = true)\n",
      " |-- count: long (nullable = false)\n",
      "\n"
     ]
    }
   ],
   "source": [
    "stocks = stocks.withColumn('Date',\n",
    "                  fun.to_date(fun.to_timestamp(fun.col('Date'),\n",
    "                                              'dd-MMM-yy')))\n",
    "stocks.printSchema()"
   ]
  },
  {
   "cell_type": "code",
   "execution_count": 9,
   "id": "7b8062e9",
   "metadata": {},
   "outputs": [],
   "source": [
    "from datetime import datetime\n",
    "\n",
    "stocks = stocks.filter(fun.col('Date') >= datetime(2009, 10, 23)).\\\n",
    "                filter(fun.col('Date') <= datetime(2014, 10, 23))"
   ]
  },
  {
   "cell_type": "code",
   "execution_count": 10,
   "id": "172dd015",
   "metadata": {},
   "outputs": [],
   "source": [
    "factors = factors.withColumn('Date',\n",
    "                              fun.to_date(fun.to_timestamp(fun.col('Date'),\n",
    "                                                          'dd-MMM-yy')))\n",
    "\n",
    "factors = factors.filter(fun.col('Date') >= datetime(2009, 10, 23)).\\\n",
    "                  filter(fun.col('Date') <= datetime(2014, 10, 23))"
   ]
  },
  {
   "cell_type": "code",
   "execution_count": 11,
   "id": "95d1966e",
   "metadata": {},
   "outputs": [
    {
     "name": "stderr",
     "output_type": "stream",
     "text": [
      "                                                                                \r"
     ]
    },
    {
     "data": {
      "text/html": [
       "<div>\n",
       "<style scoped>\n",
       "    .dataframe tbody tr th:only-of-type {\n",
       "        vertical-align: middle;\n",
       "    }\n",
       "\n",
       "    .dataframe tbody tr th {\n",
       "        vertical-align: top;\n",
       "    }\n",
       "\n",
       "    .dataframe thead th {\n",
       "        text-align: right;\n",
       "    }\n",
       "</style>\n",
       "<table border=\"1\" class=\"dataframe\">\n",
       "  <thead>\n",
       "    <tr style=\"text-align: right;\">\n",
       "      <th></th>\n",
       "      <th>Date</th>\n",
       "      <th>Open</th>\n",
       "      <th>High</th>\n",
       "      <th>Low</th>\n",
       "      <th>Close</th>\n",
       "      <th>Volume</th>\n",
       "      <th>Symbol</th>\n",
       "    </tr>\n",
       "  </thead>\n",
       "  <tbody>\n",
       "    <tr>\n",
       "      <th>0</th>\n",
       "      <td>2013-12-31</td>\n",
       "      <td>102.29</td>\n",
       "      <td>102.55</td>\n",
       "      <td>101.17</td>\n",
       "      <td>101.86</td>\n",
       "      <td>7219195</td>\n",
       "      <td>NASDAQ%253ATLT</td>\n",
       "    </tr>\n",
       "    <tr>\n",
       "      <th>1</th>\n",
       "      <td>2013-12-30</td>\n",
       "      <td>102.15</td>\n",
       "      <td>102.58</td>\n",
       "      <td>102.08</td>\n",
       "      <td>102.51</td>\n",
       "      <td>4491711</td>\n",
       "      <td>NASDAQ%253ATLT</td>\n",
       "    </tr>\n",
       "    <tr>\n",
       "      <th>2</th>\n",
       "      <td>2013-12-27</td>\n",
       "      <td>102.07</td>\n",
       "      <td>102.31</td>\n",
       "      <td>101.69</td>\n",
       "      <td>101.81</td>\n",
       "      <td>4755262</td>\n",
       "      <td>NASDAQ%253ATLT</td>\n",
       "    </tr>\n",
       "    <tr>\n",
       "      <th>3</th>\n",
       "      <td>2013-12-26</td>\n",
       "      <td>102.35</td>\n",
       "      <td>102.36</td>\n",
       "      <td>102.01</td>\n",
       "      <td>102.10</td>\n",
       "      <td>4645323</td>\n",
       "      <td>NASDAQ%253ATLT</td>\n",
       "    </tr>\n",
       "    <tr>\n",
       "      <th>4</th>\n",
       "      <td>2013-12-24</td>\n",
       "      <td>103.23</td>\n",
       "      <td>103.35</td>\n",
       "      <td>102.80</td>\n",
       "      <td>102.83</td>\n",
       "      <td>4897009</td>\n",
       "      <td>NASDAQ%253ATLT</td>\n",
       "    </tr>\n",
       "  </tbody>\n",
       "</table>\n",
       "</div>"
      ],
      "text/plain": [
       "         Date    Open    High     Low   Close   Volume          Symbol\n",
       "0  2013-12-31  102.29  102.55  101.17  101.86  7219195  NASDAQ%253ATLT\n",
       "1  2013-12-30  102.15  102.58  102.08  102.51  4491711  NASDAQ%253ATLT\n",
       "2  2013-12-27  102.07  102.31  101.69  101.81  4755262  NASDAQ%253ATLT\n",
       "3  2013-12-26  102.35  102.36  102.01  102.10  4645323  NASDAQ%253ATLT\n",
       "4  2013-12-24  103.23  103.35  102.80  102.83  4897009  NASDAQ%253ATLT"
      ]
     },
     "execution_count": 11,
     "metadata": {},
     "output_type": "execute_result"
    }
   ],
   "source": [
    "stocks_pd_df = stocks.toPandas()\n",
    "factors_pd_df = factors.toPandas()\n",
    "\n",
    "factors_pd_df.head(5)"
   ]
  },
  {
   "cell_type": "markdown",
   "id": "6913639c",
   "metadata": {},
   "source": [
    "### Determining the Factor Weights"
   ]
  },
  {
   "cell_type": "code",
   "execution_count": 12,
   "id": "7e4aed59",
   "metadata": {},
   "outputs": [],
   "source": [
    "n_steps = 10\n",
    "def my_fun(x):\n",
    "    return ((x.iloc[-1] - x.iloc[0]) / x.iloc[0])\n",
    "\n",
    "stock_returns = stocks_pd_df.groupby('Symbol').Close.\\\n",
    "                            rolling(window=n_steps).apply(my_fun)\n",
    "factors_returns = factors_pd_df.groupby('Symbol').Close.\\\n",
    "                            rolling(window=n_steps).apply(my_fun)\n",
    "\n",
    "stock_returns = stock_returns.reset_index().\\\n",
    "                              sort_values('level_1').\\\n",
    "                              reset_index()\n",
    "factors_returns = factors_returns.reset_index().\\\n",
    "                                  sort_values('level_1').\\\n",
    "                                  reset_index()"
   ]
  },
  {
   "cell_type": "code",
   "execution_count": 13,
   "id": "287c2f9c",
   "metadata": {},
   "outputs": [
    {
     "name": "stdout",
     "output_type": "stream",
     "text": [
      "0        Date  factors_returns_NASDAQ%253ATLT  \\\n",
      "0  2009-10-23                         0.01834   \n",
      "\n",
      "0  factors_returns_NYSEARCA%253ACRED  factors_returns_NYSEARCA%253AGLD  \\\n",
      "0                          -0.006594                         -0.032623   \n",
      "\n",
      "0  factors_returns_squared_NASDAQ%253ATLT  \\\n",
      "0                                0.000336   \n",
      "\n",
      "0  factors_returns_squared_NYSEARCA%253ACRED  \\\n",
      "0                                   0.000043   \n",
      "\n",
      "0  factors_returns_squared_NYSEARCA%253AGLD  \n",
      "0                                  0.001064  \n"
     ]
    }
   ],
   "source": [
    "# Create combined stocks DF\n",
    "stocks_pd_df_with_returns = stocks_pd_df.\\\n",
    "                              assign(stock_returns = \\\n",
    "                                    stock_returns['Close'])\n",
    "\n",
    "# Create combined factors DF\n",
    "factors_pd_df_with_returns = factors_pd_df.\\\n",
    "                              assign(factors_returns = \\\n",
    "                                    factors_returns['Close'],\n",
    "                                    factors_returns_squared = \\\n",
    "                                    factors_returns['Close']**2)\n",
    "\n",
    "factors_pd_df_with_returns = factors_pd_df_with_returns.\\\n",
    "                                pivot(index='Date',\n",
    "                                      columns='Symbol',\n",
    "                                      values=['factors_returns', \\\n",
    "                                              'factors_returns_squared'])\n",
    "\n",
    "factors_pd_df_with_returns.columns = factors_pd_df_with_returns.\\\n",
    "                                        columns.\\\n",
    "                                        to_series().\\\n",
    "                                        str.\\\n",
    "                                        join('_').\\\n",
    "                                        reset_index()[0]\n",
    "\n",
    "factors_pd_df_with_returns = factors_pd_df_with_returns.\\\n",
    "                                reset_index()\n",
    "\n",
    "print(factors_pd_df_with_returns.head(1))"
   ]
  },
  {
   "cell_type": "code",
   "execution_count": 14,
   "id": "23a9a12a",
   "metadata": {},
   "outputs": [
    {
     "name": "stdout",
     "output_type": "stream",
     "text": [
      "Index(['Date', 'factors_returns_NASDAQ%253ATLT',\n",
      "       'factors_returns_NYSEARCA%253ACRED', 'factors_returns_NYSEARCA%253AGLD',\n",
      "       'factors_returns_squared_NASDAQ%253ATLT',\n",
      "       'factors_returns_squared_NYSEARCA%253ACRED',\n",
      "       'factors_returns_squared_NYSEARCA%253AGLD'],\n",
      "      dtype='object', name=0)\n"
     ]
    }
   ],
   "source": [
    "print(factors_pd_df_with_returns.columns)"
   ]
  },
  {
   "cell_type": "code",
   "execution_count": 15,
   "id": "22a0ab2f",
   "metadata": {},
   "outputs": [
    {
     "data": {
      "text/html": [
       "<div>\n",
       "<style scoped>\n",
       "    .dataframe tbody tr th:only-of-type {\n",
       "        vertical-align: middle;\n",
       "    }\n",
       "\n",
       "    .dataframe tbody tr th {\n",
       "        vertical-align: top;\n",
       "    }\n",
       "\n",
       "    .dataframe thead th {\n",
       "        text-align: right;\n",
       "    }\n",
       "</style>\n",
       "<table border=\"1\" class=\"dataframe\">\n",
       "  <thead>\n",
       "    <tr style=\"text-align: right;\">\n",
       "      <th></th>\n",
       "      <th>Symbol</th>\n",
       "      <th>factors_returns_NASDAQ%253ATLT</th>\n",
       "      <th>factors_returns_NYSEARCA%253ACRED</th>\n",
       "      <th>factors_returns_NYSEARCA%253AGLD</th>\n",
       "      <th>factors_returns_squared_NASDAQ%253ATLT</th>\n",
       "      <th>factors_returns_squared_NYSEARCA%253ACRED</th>\n",
       "      <th>factors_returns_squared_NYSEARCA%253AGLD</th>\n",
       "    </tr>\n",
       "  </thead>\n",
       "  <tbody>\n",
       "    <tr>\n",
       "      <th>0</th>\n",
       "      <td>AAME</td>\n",
       "      <td>-0.354006</td>\n",
       "      <td>-0.155522</td>\n",
       "      <td>0.060056</td>\n",
       "      <td>4.241884</td>\n",
       "      <td>-21.454728</td>\n",
       "      <td>1.712844</td>\n",
       "    </tr>\n",
       "    <tr>\n",
       "      <th>1</th>\n",
       "      <td>AAON</td>\n",
       "      <td>-1.317203</td>\n",
       "      <td>1.705401</td>\n",
       "      <td>-0.016400</td>\n",
       "      <td>5.547458</td>\n",
       "      <td>-14.897657</td>\n",
       "      <td>-1.059888</td>\n",
       "    </tr>\n",
       "    <tr>\n",
       "      <th>2</th>\n",
       "      <td>AAPL</td>\n",
       "      <td>-0.932688</td>\n",
       "      <td>1.318338</td>\n",
       "      <td>0.415743</td>\n",
       "      <td>0.079644</td>\n",
       "      <td>24.244610</td>\n",
       "      <td>-0.840677</td>\n",
       "    </tr>\n",
       "    <tr>\n",
       "      <th>3</th>\n",
       "      <td>AAWW</td>\n",
       "      <td>-2.043016</td>\n",
       "      <td>3.450677</td>\n",
       "      <td>0.410567</td>\n",
       "      <td>11.667825</td>\n",
       "      <td>-69.770385</td>\n",
       "      <td>-0.221532</td>\n",
       "    </tr>\n",
       "    <tr>\n",
       "      <th>4</th>\n",
       "      <td>AAXJ</td>\n",
       "      <td>-1.251594</td>\n",
       "      <td>2.352587</td>\n",
       "      <td>0.309533</td>\n",
       "      <td>4.528992</td>\n",
       "      <td>17.876991</td>\n",
       "      <td>-1.021739</td>\n",
       "    </tr>\n",
       "    <tr>\n",
       "      <th>...</th>\n",
       "      <td>...</td>\n",
       "      <td>...</td>\n",
       "      <td>...</td>\n",
       "      <td>...</td>\n",
       "      <td>...</td>\n",
       "      <td>...</td>\n",
       "      <td>...</td>\n",
       "    </tr>\n",
       "    <tr>\n",
       "      <th>1794</th>\n",
       "      <td>ZION</td>\n",
       "      <td>-1.894257</td>\n",
       "      <td>2.230450</td>\n",
       "      <td>-0.090260</td>\n",
       "      <td>8.845611</td>\n",
       "      <td>-26.945100</td>\n",
       "      <td>1.793449</td>\n",
       "    </tr>\n",
       "    <tr>\n",
       "      <th>1795</th>\n",
       "      <td>ZIOP</td>\n",
       "      <td>-2.035323</td>\n",
       "      <td>1.656815</td>\n",
       "      <td>0.939958</td>\n",
       "      <td>11.709497</td>\n",
       "      <td>14.681073</td>\n",
       "      <td>-10.747803</td>\n",
       "    </tr>\n",
       "    <tr>\n",
       "      <th>1796</th>\n",
       "      <td>ZIXI</td>\n",
       "      <td>-1.459298</td>\n",
       "      <td>1.732013</td>\n",
       "      <td>-0.153344</td>\n",
       "      <td>3.429339</td>\n",
       "      <td>-34.460048</td>\n",
       "      <td>1.905002</td>\n",
       "    </tr>\n",
       "    <tr>\n",
       "      <th>1797</th>\n",
       "      <td>ZUMZ</td>\n",
       "      <td>-1.890375</td>\n",
       "      <td>2.633159</td>\n",
       "      <td>-0.164973</td>\n",
       "      <td>8.295717</td>\n",
       "      <td>41.750435</td>\n",
       "      <td>-2.049881</td>\n",
       "    </tr>\n",
       "    <tr>\n",
       "      <th>1798</th>\n",
       "      <td>goog</td>\n",
       "      <td>-1.140264</td>\n",
       "      <td>1.696194</td>\n",
       "      <td>0.016869</td>\n",
       "      <td>-0.767393</td>\n",
       "      <td>27.531262</td>\n",
       "      <td>-0.561214</td>\n",
       "    </tr>\n",
       "  </tbody>\n",
       "</table>\n",
       "<p>1799 rows × 7 columns</p>\n",
       "</div>"
      ],
      "text/plain": [
       "     Symbol  factors_returns_NASDAQ%253ATLT  \\\n",
       "0      AAME                       -0.354006   \n",
       "1      AAON                       -1.317203   \n",
       "2      AAPL                       -0.932688   \n",
       "3      AAWW                       -2.043016   \n",
       "4      AAXJ                       -1.251594   \n",
       "...     ...                             ...   \n",
       "1794   ZION                       -1.894257   \n",
       "1795   ZIOP                       -2.035323   \n",
       "1796   ZIXI                       -1.459298   \n",
       "1797   ZUMZ                       -1.890375   \n",
       "1798   goog                       -1.140264   \n",
       "\n",
       "      factors_returns_NYSEARCA%253ACRED  factors_returns_NYSEARCA%253AGLD  \\\n",
       "0                             -0.155522                          0.060056   \n",
       "1                              1.705401                         -0.016400   \n",
       "2                              1.318338                          0.415743   \n",
       "3                              3.450677                          0.410567   \n",
       "4                              2.352587                          0.309533   \n",
       "...                                 ...                               ...   \n",
       "1794                           2.230450                         -0.090260   \n",
       "1795                           1.656815                          0.939958   \n",
       "1796                           1.732013                         -0.153344   \n",
       "1797                           2.633159                         -0.164973   \n",
       "1798                           1.696194                          0.016869   \n",
       "\n",
       "      factors_returns_squared_NASDAQ%253ATLT  \\\n",
       "0                                   4.241884   \n",
       "1                                   5.547458   \n",
       "2                                   0.079644   \n",
       "3                                  11.667825   \n",
       "4                                   4.528992   \n",
       "...                                      ...   \n",
       "1794                                8.845611   \n",
       "1795                               11.709497   \n",
       "1796                                3.429339   \n",
       "1797                                8.295717   \n",
       "1798                               -0.767393   \n",
       "\n",
       "      factors_returns_squared_NYSEARCA%253ACRED  \\\n",
       "0                                    -21.454728   \n",
       "1                                    -14.897657   \n",
       "2                                     24.244610   \n",
       "3                                    -69.770385   \n",
       "4                                     17.876991   \n",
       "...                                         ...   \n",
       "1794                                 -26.945100   \n",
       "1795                                  14.681073   \n",
       "1796                                 -34.460048   \n",
       "1797                                  41.750435   \n",
       "1798                                  27.531262   \n",
       "\n",
       "      factors_returns_squared_NYSEARCA%253AGLD  \n",
       "0                                     1.712844  \n",
       "1                                    -1.059888  \n",
       "2                                    -0.840677  \n",
       "3                                    -0.221532  \n",
       "4                                    -1.021739  \n",
       "...                                        ...  \n",
       "1794                                  1.793449  \n",
       "1795                                -10.747803  \n",
       "1796                                  1.905002  \n",
       "1797                                 -2.049881  \n",
       "1798                                 -0.561214  \n",
       "\n",
       "[1799 rows x 7 columns]"
      ]
     },
     "execution_count": 15,
     "metadata": {},
     "output_type": "execute_result"
    }
   ],
   "source": [
    "import pandas as pd\n",
    "from sklearn.linear_model import LinearRegression\n",
    "\n",
    "# For each stock, create input DF for linear regression training\n",
    "\n",
    "stocks_factors_combined_df = pd.merge(stocks_pd_df_with_returns,\n",
    "                                      factors_pd_df_with_returns,\n",
    "                                      how=\"left\", on=\"Date\")\n",
    "\n",
    "feature_columns = list(stocks_factors_combined_df.columns[-6:])\n",
    "\n",
    "with pd.option_context('mode.use_inf_as_na', True):\n",
    "    stocks_factors_combined_df = stocks_factors_combined_df.\\\n",
    "                                    dropna(subset=feature_columns \\\n",
    "                                            + ['stock_returns'])\n",
    "\n",
    "\n",
    "def find_ols_coef(df):\n",
    "    y = df[['stock_returns']].values\n",
    "    X = df[feature_columns]\n",
    "\n",
    "    regr = LinearRegression()\n",
    "    regr_output = regr.fit(X, y)\n",
    "\n",
    "    return list(df[['Symbol']].values[0]) + \\\n",
    "                list(regr_output.coef_[0])\n",
    "\n",
    "coefs_per_stock = stocks_factors_combined_df.\\\n",
    "                      groupby('Symbol').\\\n",
    "                      apply(find_ols_coef)\n",
    "\n",
    "\n",
    "coefs_per_stock = pd.DataFrame(coefs_per_stock).reset_index()\n",
    "coefs_per_stock.columns = ['symbol', 'factor_coef_list']\n",
    "\n",
    "coefs_per_stock = pd.DataFrame(coefs_per_stock.\\\n",
    "                                factor_coef_list.tolist(),\n",
    "                                index=coefs_per_stock.index,\n",
    "                                columns = ['Symbol'] + feature_columns)\n",
    "\n",
    "coefs_per_stock"
   ]
  },
  {
   "cell_type": "markdown",
   "id": "43c49d78",
   "metadata": {},
   "source": [
    "### Sampling"
   ]
  },
  {
   "cell_type": "code",
   "execution_count": 16,
   "id": "37c1ae1b",
   "metadata": {},
   "outputs": [],
   "source": [
    "# factors_returns = factors_returns.dropna(subset=['Close'])"
   ]
  },
  {
   "cell_type": "code",
   "execution_count": 17,
   "id": "b513724e",
   "metadata": {},
   "outputs": [
    {
     "data": {
      "text/plain": [
       "<AxesSubplot:ylabel='Density'>"
      ]
     },
     "execution_count": 17,
     "metadata": {},
     "output_type": "execute_result"
    },
    {
     "data": {
      "image/png": "[encoded data removed]",
      "text/plain": [
       "<Figure size 640x480 with 1 Axes>"
      ]
     },
     "metadata": {},
     "output_type": "display_data"
    }
   ],
   "source": [
    "samples = factors_returns.loc[factors_returns.Symbol == \\\n",
    "                              factors_returns.Symbol.unique()[0]]['Close']\n",
    "samples.plot.kde()"
   ]
  },
  {
   "cell_type": "code",
   "execution_count": 18,
   "id": "6930e990",
   "metadata": {},
   "outputs": [
    {
     "data": {
      "text/html": [
       "<div>\n",
       "<style scoped>\n",
       "    .dataframe tbody tr th:only-of-type {\n",
       "        vertical-align: middle;\n",
       "    }\n",
       "\n",
       "    .dataframe tbody tr th {\n",
       "        vertical-align: top;\n",
       "    }\n",
       "\n",
       "    .dataframe thead th {\n",
       "        text-align: right;\n",
       "    }\n",
       "</style>\n",
       "<table border=\"1\" class=\"dataframe\">\n",
       "  <thead>\n",
       "    <tr style=\"text-align: right;\">\n",
       "      <th></th>\n",
       "      <th>f1</th>\n",
       "      <th>f2</th>\n",
       "      <th>f3</th>\n",
       "    </tr>\n",
       "  </thead>\n",
       "  <tbody>\n",
       "    <tr>\n",
       "      <th>f1</th>\n",
       "      <td>1.000000</td>\n",
       "      <td>0.074578</td>\n",
       "      <td>0.530550</td>\n",
       "    </tr>\n",
       "    <tr>\n",
       "      <th>f2</th>\n",
       "      <td>0.074578</td>\n",
       "      <td>1.000000</td>\n",
       "      <td>0.206538</td>\n",
       "    </tr>\n",
       "    <tr>\n",
       "      <th>f3</th>\n",
       "      <td>0.530550</td>\n",
       "      <td>0.206538</td>\n",
       "      <td>1.000000</td>\n",
       "    </tr>\n",
       "  </tbody>\n",
       "</table>\n",
       "</div>"
      ],
      "text/plain": [
       "          f1        f2        f3\n",
       "f1  1.000000  0.074578  0.530550\n",
       "f2  0.074578  1.000000  0.206538\n",
       "f3  0.530550  0.206538  1.000000"
      ]
     },
     "execution_count": 18,
     "metadata": {},
     "output_type": "execute_result"
    }
   ],
   "source": [
    "f_1 = factors_returns.loc[factors_returns.Symbol == \\\n",
    "                          factors_returns.Symbol.unique()[0]]['Close']\n",
    "f_2 = factors_returns.loc[factors_returns.Symbol == \\\n",
    "                          factors_returns.Symbol.unique()[1]]['Close']\n",
    "f_3 = factors_returns.loc[factors_returns.Symbol == \\\n",
    "                          factors_returns.Symbol.unique()[2]]['Close']\n",
    "\n",
    "pd.DataFrame({'f1': list(f_1), 'f2': list(f_2)[:-2], 'f3': list(f_3)[:-1]}).corr()"
   ]
  },
  {
   "cell_type": "code",
   "execution_count": 19,
   "id": "329117f5",
   "metadata": {},
   "outputs": [],
   "source": [
    "factors_returns_cov = pd.DataFrame({'f1': list(f_1),\n",
    "                                    'f2': list(f_2[:-2]),\n",
    "                                    'f3': list(f_3[:-1])})\\\n",
    "                                    .cov().to_numpy()\n",
    "factors_returns_mean = pd.DataFrame({'f1': list(f_1),\n",
    "                                     'f2': list(f_2[:-2]),\n",
    "                                     'f3': list(f_3[:-1])}).\\\n",
    "                                     mean()"
   ]
  },
  {
   "cell_type": "code",
   "execution_count": 20,
   "id": "a2cbcadb",
   "metadata": {},
   "outputs": [
    {
     "data": {
      "text/plain": [
       "array([ 0.03630452, -0.05101348,  0.00634357])"
      ]
     },
     "execution_count": 20,
     "metadata": {},
     "output_type": "execute_result"
    }
   ],
   "source": [
    "from numpy.random import multivariate_normal\n",
    "\n",
    "multivariate_normal(factors_returns_mean, factors_returns_cov)"
   ]
  },
  {
   "cell_type": "markdown",
   "id": "e13eeca4",
   "metadata": {},
   "source": [
    "### Running the Trials"
   ]
  },
  {
   "cell_type": "code",
   "execution_count": 21,
   "id": "1df666c4",
   "metadata": {},
   "outputs": [],
   "source": [
    "b_coefs_per_stock = spark.sparkContext.broadcast(coefs_per_stock)\n",
    "b_feature_columns = spark.sparkContext.broadcast(feature_columns)\n",
    "b_factors_returns_mean = spark.sparkContext.broadcast(factors_returns_mean)\n",
    "b_factors_returns_cov = spark.sparkContext.broadcast(factors_returns_cov)"
   ]
  },
  {
   "cell_type": "code",
   "execution_count": 22,
   "id": "0c85f88d",
   "metadata": {},
   "outputs": [],
   "source": [
    "from pyspark.sql.types import IntegerType\n",
    "\n",
    "parallelism = 1000\n",
    "num_trials = 1000000\n",
    "base_seed = 1496\n",
    "\n",
    "seeds = [b for b in range(base_seed,\n",
    "                          base_seed + parallelism)]\n",
    "seedsDF = spark.createDataFrame(seeds, IntegerType())\n",
    "\n",
    "seedsDF = seedsDF.repartition(parallelism)"
   ]
  },
  {
   "cell_type": "code",
   "execution_count": 23,
   "id": "a4628690",
   "metadata": {},
   "outputs": [],
   "source": [
    "import random\n",
    "from numpy.random import seed\n",
    "\n",
    "from pyspark.sql.types import LongType, ArrayType, DoubleType\n",
    "from pyspark.sql.functions import udf\n",
    "\n",
    "def calculate_trial_return(x):\n",
    "#     return x\n",
    "    trial_return_list = []\n",
    "\n",
    "    for i in range(int(num_trials/parallelism)):\n",
    "        random_int = random.randint(0, num_trials*num_trials)\n",
    "\n",
    "        seed(x)\n",
    "\n",
    "        random_factors = multivariate_normal(b_factors_returns_mean.value,\n",
    "          b_factors_returns_cov.value)\n",
    "\n",
    "        coefs_per_stock_df = b_coefs_per_stock.value\n",
    "        returns_per_stock = (coefs_per_stock_df[b_feature_columns.value] *\n",
    "          (list(random_factors) + list(random_factors**2)))\n",
    "\n",
    "        trial_return_list.append(float(returns_per_stock.sum(axis=1).sum()/b_coefs_per_stock.value.size))\n",
    "\n",
    "    return trial_return_list\n",
    "\n",
    "udf_return = udf(calculate_trial_return, ArrayType(DoubleType()))"
   ]
  },
  {
   "cell_type": "code",
   "execution_count": 24,
   "id": "3507e599",
   "metadata": {},
   "outputs": [
    {
     "data": {
      "text/plain": [
       "DataFrame[value: int, trial_return: double]"
      ]
     },
     "execution_count": 24,
     "metadata": {},
     "output_type": "execute_result"
    }
   ],
   "source": [
    "from pyspark.sql.functions import col, explode\n",
    "\n",
    "trials = seedsDF.withColumn(\"trial_return\", udf_return(col(\"value\")))\n",
    "trials = trials.select('value', explode('trial_return').alias('trial_return'))\n",
    "\n",
    "trials.cache()"
   ]
  },
  {
   "cell_type": "code",
   "execution_count": 25,
   "id": "978b3abd",
   "metadata": {},
   "outputs": [
    {
     "name": "stderr",
     "output_type": "stream",
     "text": [
      "                                                                                \r"
     ]
    },
    {
     "data": {
      "text/plain": [
       "[-0.022643867377572662]"
      ]
     },
     "execution_count": 25,
     "metadata": {},
     "output_type": "execute_result"
    }
   ],
   "source": [
    "trials.approxQuantile('trial_return', [0.05], 0.0)"
   ]
  },
  {
   "cell_type": "code",
   "execution_count": 26,
   "id": "d5670781",
   "metadata": {},
   "outputs": [
    {
     "name": "stderr",
     "output_type": "stream",
     "text": [
      "                                                                                \r"
     ]
    },
    {
     "name": "stdout",
     "output_type": "stream",
     "text": [
      "+--------------------+\n",
      "|   avg(trial_return)|\n",
      "+--------------------+\n",
      "|-0.03007796903044...|\n",
      "+--------------------+\n",
      "\n"
     ]
    }
   ],
   "source": [
    "trials.orderBy(col('trial_return').asc()).\\\n",
    "  limit(int(trials.count()/20)).\\\n",
    "  agg(fun.avg(col(\"trial_return\"))).show()"
   ]
  },
  {
   "cell_type": "markdown",
   "id": "d43b3635",
   "metadata": {},
   "source": [
    "### Visualizing the Distribution of Returns"
   ]
  },
  {
   "cell_type": "code",
   "execution_count": 37,
   "id": "38bebdd9",
   "metadata": {},
   "outputs": [],
   "source": [
    "#trials.plot.kde()"
   ]
  },
  {
   "cell_type": "code",
   "execution_count": null,
   "id": "80b65f1f-ed52-4cf4-81a2-6c6fcb362fa7",
   "metadata": {},
   "outputs": [],
   "source": []
  }
 ],
 "metadata": {
  "kernelspec": {
   "display_name": "Python 3 (ipykernel)",
   "language": "python",
   "name": "python3"
  },
  "language_info": {
   "codemirror_mode": {
    "name": "ipython",
    "version": 3
   },
   "file_extension": ".py",
   "mimetype": "text/x-python",
   "name": "python",
   "nbconvert_exporter": "python",
   "pygments_lexer": "ipython3",
   "version": "3.7.0"
  }
 },
 "nbformat": 4,
 "nbformat_minor": 5
}
