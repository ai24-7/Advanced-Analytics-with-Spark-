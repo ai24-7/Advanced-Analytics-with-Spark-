{
 "cells": [
  {
   "cell_type": "code",
   "execution_count": null,
   "id": "6f7f762e",
   "metadata": {},
   "outputs": [],
   "source": [
    "import pyspark\n",
    "\n",
    "from pyspark.sql import SparkSession"
   ]
  },
  {
   "cell_type": "code",
   "execution_count": null,
   "id": "fcb000ac",
   "metadata": {},
   "outputs": [],
   "source": [
    "spark = SparkSession.builder.config(\"spark.driver.memory\", \"8g\").appName('chapter_8').getOrCreate()"
   ]
  },
  {
   "cell_type": "markdown",
   "id": "548f4f51",
   "metadata": {},
   "source": [
    "### Preparing the Data"
   ]
  },
  {
   "cell_type": "code",
   "execution_count": null,
   "id": "43a4890c",
   "metadata": {},
   "outputs": [],
   "source": [
    "stocks = spark.read.csv(\"data/stocks/\", header='true', inferSchema='true')\n",
    "\n",
    "stocks.show(2)"
   ]
  },
  {
   "cell_type": "code",
   "execution_count": null,
   "id": "bf451826",
   "metadata": {},
   "outputs": [],
   "source": [
    "from pyspark.sql import functions as fun\n",
    "\n",
    "stocks = stocks.withColumn(\"Symbol\", fun.input_file_name()).\\\n",
    "                withColumn(\"Symbol\",\n",
    "                  fun.element_at(fun.split(\"Symbol\", \"/\"), -1)).\\\n",
    "                withColumn(\"Symbol\",\n",
    "                  fun.element_at(fun.split(\"Symbol\", \"\\.\"), 1))\n",
    "\n",
    "stocks.show(2)"
   ]
  },
  {
   "cell_type": "code",
   "execution_count": null,
   "id": "f8fb5527",
   "metadata": {},
   "outputs": [],
   "source": [
    "factors = spark.read.csv(\"data/factors\", header='true', inferSchema='true')\n",
    "factors = factors.withColumn(\"Symbol\", fun.input_file_name()).\\\n",
    "                  withColumn(\"Symbol\",\n",
    "                    fun.element_at(fun.split(\"Symbol\", \"/\"), -1)).\\\n",
    "                  withColumn(\"Symbol\",\n",
    "                    fun.element_at(fun.split(\"Symbol\", \"\\.\"), 1))"
   ]
  },
  {
   "cell_type": "code",
   "execution_count": null,
   "id": "c7347d1f",
   "metadata": {},
   "outputs": [],
   "source": [
    "from pyspark.sql import Window\n",
    "\n",
    "stocks = stocks.withColumn('count', fun.count('Symbol').\\\n",
    "                over(Window.partitionBy('Symbol'))).\\\n",
    "                filter(fun.col('count') > 260*5 + 10)"
   ]
  },
  {
   "cell_type": "code",
   "execution_count": null,
   "id": "208e1d94",
   "metadata": {},
   "outputs": [],
   "source": [
    "spark.sql(\"set spark.sql.legacy.timeParserPolicy=LEGACY\")"
   ]
  },
  {
   "cell_type": "code",
   "execution_count": null,
   "id": "980576dc",
   "metadata": {},
   "outputs": [],
   "source": [
    "stocks = stocks.withColumn('Date',\n",
    "                  fun.to_date(fun.to_timestamp(fun.col('Date'),\n",
    "                                              'dd-MMM-yy')))\n",
    "stocks.printSchema()"
   ]
  },
  {
   "cell_type": "code",
   "execution_count": null,
   "id": "7b8062e9",
   "metadata": {},
   "outputs": [],
   "source": [
    "from datetime import datetime\n",
    "\n",
    "stocks = stocks.filter(fun.col('Date') >= datetime(2009, 10, 23)).\\\n",
    "                filter(fun.col('Date') <= datetime(2014, 10, 23))"
   ]
  },
  {
   "cell_type": "code",
   "execution_count": null,
   "id": "172dd015",
   "metadata": {},
   "outputs": [],
   "source": [
    "factors = factors.withColumn('Date',\n",
    "                              fun.to_date(fun.to_timestamp(fun.col('Date'),\n",
    "                                                          'dd-MMM-yy')))\n",
    "\n",
    "factors = factors.filter(fun.col('Date') >= datetime(2009, 10, 23)).\\\n",
    "                  filter(fun.col('Date') <= datetime(2014, 10, 23))"
   ]
  },
  {
   "cell_type": "code",
   "execution_count": null,
   "id": "95d1966e",
   "metadata": {},
   "outputs": [],
   "source": [
    "stocks_pd_df = stocks.toPandas()\n",
    "factors_pd_df = factors.toPandas()\n",
    "\n",
    "factors_pd_df.head(5)"
   ]
  },
  {
   "cell_type": "markdown",
   "id": "6913639c",
   "metadata": {},
   "source": [
    "### Determining the Factor Weights"
   ]
  },
  {
   "cell_type": "code",
   "execution_count": null,
   "id": "7e4aed59",
   "metadata": {},
   "outputs": [],
   "source": [
    "n_steps = 10\n",
    "def my_fun(x):\n",
    "    return ((x.iloc[-1] - x.iloc[0]) / x.iloc[0])\n",
    "\n",
    "stock_returns = stocks_pd_df.groupby('Symbol').Close.\\\n",
    "                            rolling(window=n_steps).apply(my_fun)\n",
    "factors_returns = factors_pd_df.groupby('Symbol').Close.\\\n",
    "                            rolling(window=n_steps).apply(my_fun)\n",
    "\n",
    "stock_returns = stock_returns.reset_index().\\\n",
    "                              sort_values('level_1').\\\n",
    "                              reset_index()\n",
    "factors_returns = factors_returns.reset_index().\\\n",
    "                                  sort_values('level_1').\\\n",
    "                                  reset_index()"
   ]
  },
  {
   "cell_type": "code",
   "execution_count": null,
   "id": "287c2f9c",
   "metadata": {},
   "outputs": [],
   "source": [
    "# Create combined stocks DF\n",
    "stocks_pd_df_with_returns = stocks_pd_df.\\\n",
    "                              assign(stock_returns = \\\n",
    "                                    stock_returns['Close'])\n",
    "\n",
    "# Create combined factors DF\n",
    "factors_pd_df_with_returns = factors_pd_df.\\\n",
    "                              assign(factors_returns = \\\n",
    "                                    factors_returns['Close'],\n",
    "                                    factors_returns_squared = \\\n",
    "                                    factors_returns['Close']**2)\n",
    "\n",
    "factors_pd_df_with_returns = factors_pd_df_with_returns.\\\n",
    "                                pivot(index='Date',\n",
    "                                      columns='Symbol',\n",
    "                                      values=['factors_returns', \\\n",
    "                                              'factors_returns_squared'])\n",
    "\n",
    "factors_pd_df_with_returns.columns = factors_pd_df_with_returns.\\\n",
    "                                        columns.\\\n",
    "                                        to_series().\\\n",
    "                                        str.\\\n",
    "                                        join('_').\\\n",
    "                                        reset_index()[0]\n",
    "\n",
    "factors_pd_df_with_returns = factors_pd_df_with_returns.\\\n",
    "                                reset_index()\n",
    "\n",
    "print(factors_pd_df_with_returns.head(1))"
   ]
  },
  {
   "cell_type": "code",
   "execution_count": null,
   "id": "23a9a12a",
   "metadata": {},
   "outputs": [],
   "source": [
    "print(factors_pd_df_with_returns.columns)"
   ]
  },
  {
   "cell_type": "code",
   "execution_count": null,
   "id": "22a0ab2f",
   "metadata": {},
   "outputs": [],
   "source": [
    "import pandas as pd\n",
    "from sklearn.linear_model import LinearRegression\n",
    "\n",
    "# For each stock, create input DF for linear regression training\n",
    "\n",
    "stocks_factors_combined_df = pd.merge(stocks_pd_df_with_returns,\n",
    "                                      factors_pd_df_with_returns,\n",
    "                                      how=\"left\", on=\"Date\")\n",
    "\n",
    "feature_columns = list(stocks_factors_combined_df.columns[-6:])\n",
    "\n",
    "with pd.option_context('mode.use_inf_as_na', True):\n",
    "    stocks_factors_combined_df = stocks_factors_combined_df.\\\n",
    "                                    dropna(subset=feature_columns \\\n",
    "                                            + ['stock_returns'])\n",
    "\n",
    "\n",
    "def find_ols_coef(df):\n",
    "    y = df[['stock_returns']].values\n",
    "    X = df[feature_columns]\n",
    "\n",
    "    regr = LinearRegression()\n",
    "    regr_output = regr.fit(X, y)\n",
    "\n",
    "    return list(df[['Symbol']].values[0]) + \\\n",
    "                list(regr_output.coef_[0])\n",
    "\n",
    "coefs_per_stock = stocks_factors_combined_df.\\\n",
    "                      groupby('Symbol').\\\n",
    "                      apply(find_ols_coef)\n",
    "\n",
    "\n",
    "coefs_per_stock = pd.DataFrame(coefs_per_stock).reset_index()\n",
    "coefs_per_stock.columns = ['symbol', 'factor_coef_list']\n",
    "\n",
    "coefs_per_stock = pd.DataFrame(coefs_per_stock.\\\n",
    "                                factor_coef_list.tolist(),\n",
    "                                index=coefs_per_stock.index,\n",
    "                                columns = ['Symbol'] + feature_columns)\n",
    "\n",
    "coefs_per_stock"
   ]
  },
  {
   "cell_type": "markdown",
   "id": "43c49d78",
   "metadata": {},
   "source": [
    "### Sampling"
   ]
  },
  {
   "cell_type": "code",
   "execution_count": null,
   "id": "37c1ae1b",
   "metadata": {},
   "outputs": [],
   "source": [
    "# factors_returns = factors_returns.dropna(subset=['Close'])"
   ]
  },
  {
   "cell_type": "code",
   "execution_count": null,
   "id": "b513724e",
   "metadata": {},
   "outputs": [],
   "source": [
    "samples = factors_returns.loc[factors_returns.Symbol == \\\n",
    "                              factors_returns.Symbol.unique()[0]]['Close']\n",
    "samples.plot.kde()"
   ]
  },
  {
   "cell_type": "code",
   "execution_count": null,
   "id": "6930e990",
   "metadata": {},
   "outputs": [],
   "source": [
    "f_1 = factors_returns.loc[factors_returns.Symbol == \\\n",
    "                          factors_returns.Symbol.unique()[0]]['Close']\n",
    "f_2 = factors_returns.loc[factors_returns.Symbol == \\\n",
    "                          factors_returns.Symbol.unique()[1]]['Close']\n",
    "f_3 = factors_returns.loc[factors_returns.Symbol == \\\n",
    "                          factors_returns.Symbol.unique()[2]]['Close']\n",
    "\n",
    "pd.DataFrame({'f1': list(f_1), 'f2': list(f_2)[:-2], 'f3': list(f_3)[:-1]}).corr()"
   ]
  },
  {
   "cell_type": "code",
   "execution_count": null,
   "id": "329117f5",
   "metadata": {},
   "outputs": [],
   "source": [
    "factors_returns_cov = pd.DataFrame({'f1': list(f_1),\n",
    "                                    'f2': list(f_2[:-2]),\n",
    "                                    'f3': list(f_3[:-1])})\\\n",
    "                                    .cov().to_numpy()\n",
    "factors_returns_mean = pd.DataFrame({'f1': list(f_1),\n",
    "                                     'f2': list(f_2[:-2]),\n",
    "                                     'f3': list(f_3[:-1])}).\\\n",
    "                                     mean()"
   ]
  },
  {
   "cell_type": "code",
   "execution_count": null,
   "id": "a2cbcadb",
   "metadata": {},
   "outputs": [],
   "source": [
    "from numpy.random import multivariate_normal\n",
    "\n",
    "multivariate_normal(factors_returns_mean, factors_returns_cov)"
   ]
  },
  {
   "cell_type": "markdown",
   "id": "e13eeca4",
   "metadata": {},
   "source": [
    "### Running the Trials"
   ]
  },
  {
   "cell_type": "code",
   "execution_count": null,
   "id": "1df666c4",
   "metadata": {},
   "outputs": [],
   "source": [
    "b_coefs_per_stock = spark.sparkContext.broadcast(coefs_per_stock)\n",
    "b_feature_columns = spark.sparkContext.broadcast(feature_columns)\n",
    "b_factors_returns_mean = spark.sparkContext.broadcast(factors_returns_mean)\n",
    "b_factors_returns_cov = spark.sparkContext.broadcast(factors_returns_cov)"
   ]
  },
  {
   "cell_type": "code",
   "execution_count": null,
   "id": "0c85f88d",
   "metadata": {},
   "outputs": [],
   "source": [
    "from pyspark.sql.types import IntegerType\n",
    "\n",
    "parallelism = 1000\n",
    "num_trials = 1000000\n",
    "base_seed = 1496\n",
    "\n",
    "seeds = [b for b in range(base_seed,\n",
    "                          base_seed + parallelism)]\n",
    "seedsDF = spark.createDataFrame(seeds, IntegerType())\n",
    "\n",
    "seedsDF = seedsDF.repartition(parallelism)"
   ]
  },
  {
   "cell_type": "code",
   "execution_count": null,
   "id": "a4628690",
   "metadata": {},
   "outputs": [],
   "source": [
    "import random\n",
    "from numpy.random import seed\n",
    "\n",
    "from pyspark.sql.types import LongType, ArrayType, DoubleType\n",
    "from pyspark.sql.functions import udf\n",
    "\n",
    "def calculate_trial_return(x):\n",
    "#     return x\n",
    "    trial_return_list = []\n",
    "\n",
    "    for i in range(int(num_trials/parallelism)):\n",
    "        random_int = random.randint(0, num_trials*num_trials)\n",
    "\n",
    "        seed(x)\n",
    "\n",
    "        random_factors = multivariate_normal(b_factors_returns_mean.value,\n",
    "          b_factors_returns_cov.value)\n",
    "\n",
    "        coefs_per_stock_df = b_coefs_per_stock.value\n",
    "        returns_per_stock = (coefs_per_stock_df[b_feature_columns.value] *\n",
    "          (list(random_factors) + list(random_factors**2)))\n",
    "\n",
    "        trial_return_list.append(float(returns_per_stock.sum(axis=1).sum()/b_coefs_per_stock.value.size))\n",
    "\n",
    "    return trial_return_list\n",
    "\n",
    "udf_return = udf(calculate_trial_return, ArrayType(DoubleType()))"
   ]
  },
  {
   "cell_type": "code",
   "execution_count": null,
   "id": "3507e599",
   "metadata": {},
   "outputs": [],
   "source": [
    "from pyspark.sql.functions import col, explode\n",
    "\n",
    "trials = seedsDF.withColumn(\"trial_return\", udf_return(col(\"value\")))\n",
    "trials = trials.select('value', explode('trial_return').alias('trial_return'))\n",
    "\n",
    "trials.cache()"
   ]
  },
  {
   "cell_type": "code",
   "execution_count": null,
   "id": "978b3abd",
   "metadata": {},
   "outputs": [],
   "source": [
    "trials.approxQuantile('trial_return', [0.05], 0.0)"
   ]
  },
  {
   "cell_type": "code",
   "execution_count": null,
   "id": "d5670781",
   "metadata": {},
   "outputs": [],
   "source": [
    "trials.orderBy(col('trial_return').asc()).\\\n",
    "  limit(int(trials.count()/20)).\\\n",
    "  agg(fun.avg(col(\"trial_return\"))).show()"
   ]
  },
  {
   "cell_type": "markdown",
   "id": "d43b3635",
   "metadata": {},
   "source": [
    "### Visualizing the Distribution of Returns"
   ]
  },
  {
   "cell_type": "code",
   "execution_count": null,
   "id": "38bebdd9",
   "metadata": {},
   "outputs": [],
   "source": [
    "trials.plot.kde()"
   ]
  }
 ],
 "metadata": {
  "kernelspec": {
   "display_name": "Python 3 (ipykernel)",
   "language": "python",
   "name": "python3"
  },
  "language_info": {
   "codemirror_mode": {
    "name": "ipython",
    "version": 3
   },
   "file_extension": ".py",
   "mimetype": "text/x-python",
   "name": "python",
   "nbconvert_exporter": "python",
   "pygments_lexer": "ipython3",
   "version": "3.8.10"
  }
 },
 "nbformat": 4,
 "nbformat_minor": 5
}
